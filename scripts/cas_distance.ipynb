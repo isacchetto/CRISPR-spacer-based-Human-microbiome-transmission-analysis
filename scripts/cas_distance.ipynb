{
 "cells": [
  {
   "cell_type": "code",
   "execution_count": 8,
   "metadata": {},
   "outputs": [],
   "source": [
    "import pandas as pd\n",
    "\n",
    "# Carica i file TSV\n",
    "CRISPR_df = pd.read_csv('/home/isacco.cenacchi/data/Tirocinio/out/MAGs_minced_parsed.tsv', delimiter='\\t', dtype={'MAG': str, 'contig': str, 'start': int, 'end': int}, index_col=0)\n",
    "CRISPR_df.rename(columns={'contig': 'Contig', 'start': 'Start', 'end': 'End'}, inplace=True)\n",
    "Cas_df = pd.read_csv('/home/isacco.cenacchi/data/Tirocinio/samples/Aug19_cas_genes.tsv', delimiter='\\t', usecols=['MAG', 'Contig', 'Start', 'End'], dtype={'MAG': str, 'Contig': str, 'Start': int, 'End': int})\n",
    "\n",
    "# Controllare l'utilizzo della memoria\n",
    "# print(CRISPR_df.memory_usage(deep=True))\n",
    "# print(Cas_df.memory_usage(deep=True))\n",
    "\n",
    "# Creo un DataFrame con i dati dei CRISPR e dei Cas combinati\n",
    "merged_df = CRISPR_df.drop(columns=['spacers', 'repeats']).reset_index().merge(Cas_df, on=['MAG', 'Contig'], how=\"inner\", suffixes=('_CRISPR', '_Cas')).set_index('index')\n",
    "\n",
    "# Aggiunge le colonne al DataFrame\n",
    "CRISPR_df['Cas_0-1000']=0\n",
    "CRISPR_df['Cas_1000-10000']=0\n",
    "CRISPR_df['Cas_>100000']=0\n",
    "CRISPR_df['Cas_overlayed']=0\n",
    "\n",
    "# Calcola la distanza tra i CRISPR e i Cas\n",
    "for index, row in merged_df.iterrows():\n",
    "    if row['Start_Cas'] >= row['End_CRISPR']:\n",
    "        # print('Cas davati al CRISPR')\n",
    "        distance = row['Start_Cas'] - row['End_CRISPR']\n",
    "    elif row['End_Cas'] <= row['Start_CRISPR']:\n",
    "        # print('Cas prima il CRISPR')\n",
    "        distance = row['Start_CRISPR'] - row['End_Cas']\n",
    "    else:\n",
    "        # print('Cas che sovrappone al CRISPR')\n",
    "        distance = -1\n",
    "    \n",
    "    if distance >= 0 and distance <= 1000:\n",
    "        CRISPR_df.at[index, 'Cas_0-1000'] += 1\n",
    "    elif distance > 1000 and distance <= 10000:\n",
    "        CRISPR_df.at[index, 'Cas_1000-10000'] += 1\n",
    "    elif distance > 10000:\n",
    "        CRISPR_df.at[index, 'Cas_>100000'] += 1\n",
    "    elif distance == -1:\n",
    "        CRISPR_df.at[index, 'Cas_overlayed'] += 1\n",
    "    else:\n",
    "        print('Errore')\n",
    "        print('Distanza: ', distance)\n",
    "\n",
    "# Salva il DataFrame in un file TSV\n",
    "CRISPR_df.to_csv('/home/isacco.cenacchi/data/Tirocinio/out/MAGs_minced_parsed_cas_real.tsv', sep='\\t', index=False)\n"
   ]
  }
 ],
 "metadata": {
  "kernelspec": {
   "display_name": "CRISPR-transmission",
   "language": "python",
   "name": "python3"
  },
  "language_info": {
   "codemirror_mode": {
    "name": "ipython",
    "version": 3
   },
   "file_extension": ".py",
   "mimetype": "text/x-python",
   "name": "python",
   "nbconvert_exporter": "python",
   "pygments_lexer": "ipython3",
   "version": "3.12.4"
  }
 },
 "nbformat": 4,
 "nbformat_minor": 2
}
