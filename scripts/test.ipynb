{
 "cells": [
  {
   "cell_type": "code",
   "execution_count": 75,
   "metadata": {},
   "outputs": [
    {
     "data": {
      "text/plain": [
       "('\\x1b[1m\\x1b[32mcrisprAll.sh\\x1b[m\\x1b[m\\nfastscript.ipynb\\n\\x1b[1m\\x1b[32mfastscript.py\\x1b[m\\x1b[m\\n\\x1b[1m\\x1b[32mmincedAll.sh\\x1b[m\\x1b[m\\nparse_minced_res.py\\nrun_cctyper_new.py\\n\\x1b[1m\\x1b[32mrun_minced.py\\x1b[m\\x1b[m\\n\\x1b[1m\\x1b[32munzip_MAGs.py\\x1b[m\\x1b[m\\n\\x1b[1m\\x1b[32munzip_MAGs_parallel.sh\\x1b[m\\x1b[m',\n",
       " '')"
      ]
     },
     "execution_count": 75,
     "metadata": {},
     "output_type": "execute_result"
    }
   ],
   "source": [
    "import subprocess\n",
    "process = subprocess.Popen(\"ls\",\n",
    "                     stdout = subprocess.PIPE, \n",
    "                     stderr = subprocess.PIPE,\n",
    "                     text = True,\n",
    "                     shell = True\n",
    "                     )\n",
    "std_out, std_err = process.communicate()\n",
    "std_out.strip(), std_err"
   ]
  },
  {
   "cell_type": "code",
   "execution_count": 66,
   "metadata": {},
   "outputs": [
    {
     "name": "stdout",
     "output_type": "stream",
     "text": [
      "Input: /Users/isaccocenacchi/Desktop/Tirocinio/MAGs\n",
      "Output: /Users/isaccocenacchi/Desktop/Tirocinio/scripts/out/new\n"
     ]
    },
    {
     "data": {
      "text/plain": [
       "'/Users/isaccocenacchi/Desktop/Tirocinio/'"
      ]
     },
     "execution_count": 66,
     "metadata": {},
     "output_type": "execute_result"
    }
   ],
   "source": [
    "import time\n",
    "from datetime import datetime\n",
    "import pathlib\n",
    "import os\n",
    "import sys\n",
    "\n",
    "input_dir=\"/Users/isaccocenacchi/Desktop/Tirocinio/MAGs\"\n",
    "out=\"new\"\n",
    "# out=None\n",
    "inplace=False\n",
    "if not os.path.exists(input_dir):\n",
    "    print(\"The input directory does not exist\", file=sys.stderr)\n",
    "    sys.exit(1)\n",
    "\n",
    "if inplace:\n",
    "    if out==None:\n",
    "        # Create output directory with unique name near the input directory\n",
    "        output_dir = f\"{os.path.abspath(input_dir)}_unzip_{time.strftime('%Y%m%d%H%M%S')}\"\n",
    "    else:\n",
    "        # Create output directory with name specified by the user near the input directory\n",
    "        output_dir = os.path.join(os.path.abspath(input_dir).removesuffix(os.path.basename(input_dir)), os.path.basename(out))\n",
    "else:\n",
    "    if out==None:\n",
    "        # Create output directory with unique name in the out directory of the current working directory\n",
    "        output_dir = os.path.join(os.getcwd(), \"out\", f\"{os.path.basename(input_dir)}_unzip_{time.strftime('%Y%m%d%H%M%S')}\")\n",
    "    else:\n",
    "        # Create output directory with name specified by the user in the out directory of the current working directory\n",
    "        output_dir = os.path.join(os.getcwd(), \"out\", os.path.basename(out))\n",
    "\n",
    "print(\"Input: \" + input_dir)\n",
    "print(\"Output: \" + output_dir)\n",
    "os.path.abspath(input_dir).split('/')[:-1]\n",
    "os.path.abspath(input_dir).removesuffix(os.path.basename(input_dir))\n",
    "# os.path.basename(input_dir)\n"
   ]
  },
  {
   "cell_type": "code",
   "execution_count": 199,
   "metadata": {},
   "outputs": [
    {
     "name": "stdout",
     "output_type": "stream",
     "text": [
      "Mags:  586\n",
      "CPUs:  7\n"
     ]
    }
   ],
   "source": [
    "from glob import glob\n",
    "import os\n",
    "import bz2\n",
    "import argparse\n",
    "import time\n",
    "import subprocess\n",
    "from concurrent.futures import ProcessPoolExecutor\n",
    "from functools import partial\n",
    "import matplotlib.pyplot as plt\n",
    "import pandas as pd\n",
    "import shutil\n",
    "import multiprocessing as mp\n",
    "import itertools\n",
    "\n",
    "\n",
    "# run_minced.py\n",
    "# Version 0.1\n",
    "# 18/04/2024\n",
    "# by isacchetto\n",
    "\n",
    "input_directory = '/Users/isaccocenacchi/Desktop/Tirocinio/MAGs_short'\n",
    "output_dir = \"{}_crispr_{}\".format(input_directory, time.strftime(\"%Y%m%d%H%M%S\"))\n",
    "measures = []\n",
    "\n",
    "# mags = glob(os.path.join(input_directory, '**/*.bz2'), recursive=True)\n",
    "\n",
    "# mags = []\n",
    "# for root, _, files in os.walk(input_directory):\n",
    "#         for filename in files:\n",
    "#             if filename.endswith('.bz2'):\n",
    "#                   mags.append(os.path.join(root, filename))\n",
    "# print(len(mags))\n",
    "\n",
    "mags = [os.path.join(dirpath,filename) \n",
    "             for dirpath, _, filenames in os.walk(input_directory) \n",
    "             for filename in filenames \n",
    "             if filename.endswith('.bz2')\n",
    "            ]\n",
    "print(\"Mags: \", len(mags))\n",
    "num_cpus = mp.cpu_count() - 1\n",
    "print(\"CPUs: \", num_cpus)\n"
   ]
  },
  {
   "cell_type": "code",
   "execution_count": null,
   "metadata": {},
   "outputs": [],
   "source": [
    "def decompress1(mags, output_dir):\n",
    "    for mag in mags:\n",
    "        start_time = time.time()\n",
    "        unzipped_mag=os.path.join(output_dir, os.path.relpath(mag[:-4], input_directory))\n",
    "        os.makedirs(os.path.dirname(unzipped_mag), exist_ok=True)\n",
    "        with open(unzipped_mag, 'wb') as new_file, bz2.BZ2File(mag, 'rb') as file:\n",
    "            for data in iter(lambda : file.read(100 * 1024), b''):\n",
    "                new_file.write(data)\n",
    "        end_time = time.time()\n",
    "        measures.append(end_time - start_time)\n",
    "    mean_time = sum(measures) / len(measures)\n",
    "    print(\"Tempo medio:\", mean_time, \"secondi\")\n",
    "    print(\"Tempo totale:\", sum(measures), \"secondi\")\n",
    "\n",
    "def batched(iterable, n):\n",
    "    it = iter(iterable)\n",
    "    while (batch := tuple(itertools.islice(it, n))):\n",
    "        yield batch\n",
    "\n",
    "with mp.Pool(num_cpus) as pool:\n",
    "        pool.map(decompress1, batched(mags, num_cpus))"
   ]
  },
  {
   "cell_type": "code",
   "execution_count": null,
   "metadata": {},
   "outputs": [],
   "source": [
    "times = pd.Series(measures)\n",
    "times.head()\n",
    "\n",
    "times.plot.line()\n",
    "plt.xlabel('MAG')\n",
    "plt.ylabel('Time (s)')\n",
    "plt.title('Time to unzip MAGs')\n",
    "\n",
    "plt.show()"
   ]
  },
  {
   "cell_type": "code",
   "execution_count": 171,
   "metadata": {},
   "outputs": [
    {
     "name": "stdout",
     "output_type": "stream",
     "text": [
      "Tempo medio: 0.3039279778798421 secondi\n",
      "Tempo totale: 0.9117839336395264 secondi\n"
     ]
    }
   ],
   "source": [
    "def decompress2(mags, output_dir):\n",
    "    measures.clear()\n",
    "    for mag in mags:\n",
    "        start_time = time.time()\n",
    "        unzipped_mag=os.path.join(output_dir, os.path.relpath(mag[:-4], input_directory))\n",
    "        os.makedirs(os.path.dirname(unzipped_mag), exist_ok=True)\n",
    "        with open(unzipped_mag, 'wb') as new_file, open(mag, 'rb') as file:\n",
    "            decompressor = bz2.BZ2Decompressor()\n",
    "            for data in iter(lambda : file.read(100 * 1024), b''):\n",
    "                new_file.write(decompressor.decompress(data))\n",
    "        end_time = time.time()\n",
    "        measures.append(end_time - start_time)\n",
    "    mean_time = sum(measures) / len(measures)\n",
    "    print(\"Tempo medio:\", mean_time, \"secondi\")\n",
    "    print(\"Tempo totale:\", sum(measures), \"secondi\")\n",
    "\n",
    "decompress2(mags, \"{}_crispr_{}\".format(input_directory, time.strftime(\"%Y%m%d%H%M%S\")))"
   ]
  },
  {
   "cell_type": "code",
   "execution_count": null,
   "metadata": {},
   "outputs": [],
   "source": [
    "from multiprocessing import Pool\n",
    "import subprocess\n",
    "\n",
    "def run_script(input):\n",
    "    (command,arg_str)=input\n",
    "    print(\"Starting command :{} with argument {}\".format(command, arg_str))\n",
    "    result = subprocess.call(command+\" \"+arg_str, shell=True) \n",
    "    print(\"Completed command :{} with argument {}\".format(command, arg_str))\n",
    "    return result\n",
    "\n",
    "if __name__ == '__main__':\n",
    "    with Pool(5) as p: # choose appropriate level of parallelism\n",
    "        # choose appropriate command and argument, can be fetched from sys.argv if needed\n",
    "        exit_codes = p.map(run_script, [('echo','hello1'), ('echo','hello2')])\n",
    "        print(\"Exit codes : {}\".format(exit_codes))"
   ]
  },
  {
   "cell_type": "code",
   "execution_count": null,
   "metadata": {},
   "outputs": [],
   "source": [
    "def decompress4(mags, output_dir):\n",
    "    measures.clear()\n",
    "    for mag in mags:\n",
    "        start_time = time.time()\n",
    "        unzipped_mag=os.path.join(output_dir, os.path.relpath(mag[:-4], input_directory))\n",
    "        os.makedirs(os.path.dirname(unzipped_mag), exist_ok=True)\n",
    "        sts=subprocess.Popen(['bunzip2', '-kc', mag, '>', unzipped_mag])\n",
    "        sts.wait()\n",
    "        # os.system('bunzip2 -k {}'.format(mag))\n",
    "        end_time = time.time()\n",
    "        measures.append(end_time - start_time)\n",
    "    mean_time = sum(measures) / len(measures)\n",
    "    print(\"Tempo medio:\", mean_time, \"secondi\")\n",
    "    print(\"Tempo totale:\", sum(measures), \"secondi\")\n",
    "\n",
    "decompress4(mags, \"{}_crispr_{}\".format(input_directory, time.strftime(\"%Y%m%d%H%M%S\")))\n"
   ]
  }
 ],
 "metadata": {
  "kernelspec": {
   "display_name": "bio_env",
   "language": "python",
   "name": "python3"
  },
  "language_info": {
   "codemirror_mode": {
    "name": "ipython",
    "version": 3
   },
   "file_extension": ".py",
   "mimetype": "text/x-python",
   "name": "python",
   "nbconvert_exporter": "python",
   "pygments_lexer": "ipython3",
   "version": "3.10.14"
  }
 },
 "nbformat": 4,
 "nbformat_minor": 2
}
